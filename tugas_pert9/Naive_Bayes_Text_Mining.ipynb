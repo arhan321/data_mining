{
 "cells": [
  {
   "cell_type": "markdown",
   "id": "47fe7029",
   "metadata": {},
   "source": [
    "# 📘 Text Mining dengan Naive Bayes Classifier di Jupyter Notebook"
   ]
  },
  {
   "cell_type": "markdown",
   "id": "f0f1fd5f",
   "metadata": {},
   "source": [
    "\n",
    "Notebook ini bertujuan untuk mendemonstrasikan langkah-langkah klasifikasi teks menggunakan **Naive Bayes Classifier**.\n",
    "Contoh kasus: mengklasifikasikan ulasan pelanggan sebagai **positif** atau **negatif**.\n"
   ]
  },
  {
   "cell_type": "code",
   "execution_count": null,
   "id": "6267f2b9",
   "metadata": {},
   "outputs": [],
   "source": [
    "# 🔹 Step 1: Import Library yang Dibutuhkan\n",
    "import pandas as pd\n",
    "import string\n",
    "from sklearn.model_selection import train_test_split\n",
    "from sklearn.feature_extraction.text import CountVectorizer\n",
    "from sklearn.naive_bayes import MultinomialNB\n",
    "from sklearn.metrics import classification_report\n",
    "from nltk.corpus import stopwords\n",
    "import nltk\n",
    "\n",
    "# Download stopwords (hanya perlu dijalankan sekali)\n",
    "nltk.download('stopwords')"
   ]
  },
  {
   "cell_type": "code",
   "execution_count": null,
   "id": "6e4b9688",
   "metadata": {},
   "outputs": [],
   "source": [
    "# 🔹 Step 2: Siapkan Dataset Ulasan Sederhana\n",
    "data = {\n",
    "    'review': [\n",
    "        'Makanannya enak sekali!',\n",
    "        'Pelayanan sangat buruk',\n",
    "        'Pengiriman cepat dan rapi',\n",
    "        'Saya kecewa dengan produk ini',\n",
    "        'Kualitasnya bagus dan tahan lama',\n",
    "        'Tidak sesuai dengan deskripsi',\n",
    "        'Harga terjangkau dan kualitas oke',\n",
    "        'Saya tidak akan beli lagi',\n",
    "        'Produk sangat memuaskan',\n",
    "        'Barang rusak saat diterima'\n",
    "    ],\n",
    "    'label': [\n",
    "        'positif', 'negatif', 'positif', 'negatif', 'positif',\n",
    "        'negatif', 'positif', 'negatif', 'positif', 'negatif'\n",
    "    ]\n",
    "}\n",
    "\n",
    "df = pd.DataFrame(data)\n",
    "df"
   ]
  },
  {
   "cell_type": "code",
   "execution_count": null,
   "id": "a37e9597",
   "metadata": {},
   "outputs": [],
   "source": [
    "# 🔹 Step 3: Preprocessing Teks\n",
    "stop_words = set(stopwords.words('indonesian'))\n",
    "\n",
    "def clean_text(text):\n",
    "    text = text.lower()  # huruf kecil\n",
    "    text = text.translate(str.maketrans('', '', string.punctuation))  # hapus tanda baca\n",
    "    text = ' '.join([word for word in text.split() if word not in stop_words])  # hapus stopwords\n",
    "    return text\n",
    "\n",
    "df['clean_text'] = df['review'].apply(clean_text)\n",
    "df[['review', 'clean_text']]"
   ]
  },
  {
   "cell_type": "code",
   "execution_count": null,
   "id": "02fd33c8",
   "metadata": {},
   "outputs": [],
   "source": [
    "# 🔹 Step 4: Ubah Teks menjadi Fitur Angka (Bag of Words)\n",
    "vectorizer = CountVectorizer()\n",
    "X = vectorizer.fit_transform(df['clean_text'])\n",
    "y = df['label']"
   ]
  },
  {
   "cell_type": "code",
   "execution_count": null,
   "id": "6d9645fa",
   "metadata": {},
   "outputs": [],
   "source": [
    "# 🔹 Step 5: Split Dataset menjadi Data Latih dan Uji\n",
    "X_train, X_test, y_train, y_test = train_test_split(X, y, test_size=0.2, random_state=42)"
   ]
  },
  {
   "cell_type": "code",
   "execution_count": null,
   "id": "afc1d2d5",
   "metadata": {},
   "outputs": [],
   "source": [
    "# 🔹 Step 6: Latih Model Naive Bayes\n",
    "model = MultinomialNB()\n",
    "model.fit(X_train, y_train)"
   ]
  },
  {
   "cell_type": "code",
   "execution_count": null,
   "id": "20865ec1",
   "metadata": {},
   "outputs": [],
   "source": [
    "# 🔹 Step 7: Evaluasi Model\n",
    "y_pred = model.predict(X_test)\n",
    "print(classification_report(y_test, y_pred))"
   ]
  },
  {
   "cell_type": "code",
   "execution_count": null,
   "id": "cc73d46e",
   "metadata": {},
   "outputs": [],
   "source": [
    "# 🔹 Step 8: Prediksi Teks Baru\n",
    "new_reviews = [\"pengiriman sangat cepat dan memuaskan\", \"produk tidak bagus dan mengecewakan\"]\n",
    "new_vectors = vectorizer.transform(new_reviews)\n",
    "model.predict(new_vectors)"
   ]
  }
 ],
 "metadata": {},
 "nbformat": 4,
 "nbformat_minor": 5
}
